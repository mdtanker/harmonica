{
  "cells": [
    {
      "cell_type": "code",
      "execution_count": null,
      "metadata": {
        "collapsed": false
      },
      "outputs": [],
      "source": [
        "%matplotlib inline"
      ]
    },
    {
      "cell_type": "markdown",
      "metadata": {},
      "source": [
        "\n# Tesseroids with variable density\n\nThe :func:`harmonica.tesseroid_gravity` is capable of computing the\ngravitational effects of tesseroids whose density is defined through\na continuous function of the radial coordinate. This is achieved by the\napplication of the method introduced in [Soler2021]_.\n\nTo do so we need to define a regular Python function for the density, which\nshould have a single argument (the ``radius`` coordinate) and return the\ndensity of the tesseroids at that radial coordinate.\nIn addition, we need to decorate the density function with\n:func:`numba.jit(nopython=True)` or ``numba.njit`` for short.\n\nOn this example we will show how we can compute the gravitational effect of\nfour tesseroids whose densities are given by a custom linear ``density``\nfunction.\n"
      ]
    },
    {
      "cell_type": "code",
      "execution_count": null,
      "metadata": {
        "collapsed": false
      },
      "outputs": [],
      "source": [
        "import boule as bl\nimport cartopy.crs as ccrs\nimport matplotlib.pyplot as plt\nimport verde as vd\nfrom numba import njit\n\nimport harmonica as hm\n\n# Use the WGS84 ellipsoid to obtain the mean Earth radius which we'll use to\n# reference the tesseroid\nellipsoid = bl.WGS84\nmean_radius = ellipsoid.mean_radius\n\n# Define tesseroid with top surface at the mean Earth radius, a thickness of\n# 10km and a linear density function\ntesseroids = (\n    [-70, -60, -40, -30, mean_radius - 3e3, mean_radius],\n    [-70, -60, -30, -20, mean_radius - 5e3, mean_radius],\n    [-60, -50, -40, -30, mean_radius - 7e3, mean_radius],\n    [-60, -50, -30, -20, mean_radius - 10e3, mean_radius],\n)\n\n# Define a linear density function. We should use the jit decorator so Numba\n# can run the forward model efficiently.\n\n\n@njit\ndef density(radius):\n    \"\"\"Linear density function\"\"\"\n    top = mean_radius\n    bottom = mean_radius - 10e3\n    density_top = 2670\n    density_bottom = 3000\n    slope = (density_top - density_bottom) / (top - bottom)\n    return slope * (radius - bottom) + density_bottom\n\n\n# Define computation points on a regular grid at 100km above the mean Earth\n# radius\ncoordinates = vd.grid_coordinates(\n    region=[-80, -40, -50, -10],\n    shape=(80, 80),\n    extra_coords=100e3 + ellipsoid.mean_radius,\n)\n\n# Compute the radial component of the acceleration\ngravity = hm.tesseroid_gravity(coordinates, tesseroids, density, field=\"g_z\")\nprint(gravity)\n\n# Plot the gravitational field\nfig = plt.figure(figsize=(8, 9))\nax = plt.axes(projection=ccrs.Orthographic(central_longitude=-60))\nimg = ax.pcolormesh(*coordinates[:2], gravity, transform=ccrs.PlateCarree())\nplt.colorbar(img, ax=ax, pad=0, aspect=50, orientation=\"horizontal\", label=\"mGal\")\nax.coastlines()\nax.set_title(\"Downward component of gravitational acceleration\")\nplt.show()"
      ]
    }
  ],
  "metadata": {
    "kernelspec": {
      "display_name": "Python 3",
      "language": "python",
      "name": "python3"
    },
    "language_info": {
      "codemirror_mode": {
        "name": "ipython",
        "version": 3
      },
      "file_extension": ".py",
      "mimetype": "text/x-python",
      "name": "python",
      "nbconvert_exporter": "python",
      "pygments_lexer": "ipython3",
      "version": "3.9.12"
    }
  },
  "nbformat": 4,
  "nbformat_minor": 0
}