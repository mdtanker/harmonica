{
  "cells": [
    {
      "cell_type": "code",
      "execution_count": null,
      "metadata": {
        "collapsed": false
      },
      "outputs": [],
      "source": [
        "%matplotlib inline"
      ]
    },
    {
      "cell_type": "markdown",
      "metadata": {},
      "source": [
        "\n# Topography-free (Bouguer) Gravity Disturbances\n\nThe gravity disturbance is the observed gravity minus the normal gravity\n(:meth:`boule.Ellipsoid.normal_gravity`). The signal that is left is assumed to\nbe due to the differences between the actual Earth and the reference ellipsoid.\nBig components in this signal are the effects of topographic masses outside of\nthe ellipsoid and residual effects of the oceans (we removed ellipsoid crust\nwhere there was actually ocean water). These two components are relatively well\nknown and can be removed from the gravity disturbance. The simplest way of\ncalculating the effects of topography and oceans is through the Bouguer plate\napproximation.\n\nWe'll use :func:`harmonica.bouguer_correction` to calculate a topography-free\ngravity disturbance for Earth using our sample gravity and topography data. One\nthing to note is that the ETOPO1 topography is referenced to the geoid, not the\nellipsoid. Since we want to remove the masses between the surface of the Earth\nand ellipsoid, we need to add the geoid height to the topography before Bouguer\ncorrection.\n"
      ]
    },
    {
      "cell_type": "code",
      "execution_count": null,
      "metadata": {
        "collapsed": false
      },
      "outputs": [],
      "source": [
        "import boule as bl\nimport cartopy.crs as ccrs\nimport matplotlib.pyplot as plt\nimport xarray as xr\n\nimport harmonica as hm\n\n# Load the global gravity, topography, and geoid grids\ndata = xr.merge(\n    [\n        hm.datasets.fetch_gravity_earth(),\n        hm.datasets.fetch_geoid_earth(),\n        hm.datasets.fetch_topography_earth(),\n    ]\n)\nprint(data)\n\n# Calculate normal gravity and the disturbance\nellipsoid = bl.WGS84\ngamma = ellipsoid.normal_gravity(data.latitude, data.height_over_ell)\ndisturbance = data.gravity - gamma\n\n# Reference the topography to the ellipsoid\ntopography_ell = data.topography + data.geoid\n\n# Calculate the Bouguer planar correction and the topography-free disturbance.\n# Use the default densities for the crust and ocean water.\nbouguer = hm.bouguer_correction(topography_ell)\ndisturbance_topofree = disturbance - bouguer\n\n# Make a plot of data using Cartopy\nplt.figure(figsize=(10, 10))\nax = plt.axes(projection=ccrs.Orthographic(central_longitude=-60))\npc = disturbance_topofree.plot.pcolormesh(\n    ax=ax, transform=ccrs.PlateCarree(), add_colorbar=False\n)\nplt.colorbar(\n    pc, label=\"mGal\", orientation=\"horizontal\", aspect=50, pad=0.01, shrink=0.5\n)\nax.set_title(\"Topography-free (Bouguer) gravity of disturbance of the Earth\")\nax.coastlines()\nplt.show()"
      ]
    }
  ],
  "metadata": {
    "kernelspec": {
      "display_name": "Python 3",
      "language": "python",
      "name": "python3"
    },
    "language_info": {
      "codemirror_mode": {
        "name": "ipython",
        "version": 3
      },
      "file_extension": ".py",
      "mimetype": "text/x-python",
      "name": "python",
      "nbconvert_exporter": "python",
      "pygments_lexer": "ipython3",
      "version": "3.9.12"
    }
  },
  "nbformat": 4,
  "nbformat_minor": 0
}