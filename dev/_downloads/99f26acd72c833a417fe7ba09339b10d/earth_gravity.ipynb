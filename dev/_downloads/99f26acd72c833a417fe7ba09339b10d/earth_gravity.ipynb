{
  "cells": [
    {
      "cell_type": "code",
      "execution_count": null,
      "metadata": {
        "collapsed": false
      },
      "outputs": [],
      "source": [
        "%matplotlib inline"
      ]
    },
    {
      "cell_type": "markdown",
      "metadata": {},
      "source": [
        "\n# Earth Gravity\n\nThis is the magnitude of the gravity vector of the Earth (gravitational\n+ centrifugal) at 10 km height. The data is on a regular grid with 0.5 degree\nspacing at 10km ellipsoidal height. It was generated from the spherical\nharmonic model EIGEN-6C4 [Forste_etal2014]_.\n"
      ]
    },
    {
      "cell_type": "code",
      "execution_count": null,
      "metadata": {
        "collapsed": false
      },
      "outputs": [],
      "source": [
        "import cartopy.crs as ccrs\nimport matplotlib.pyplot as plt\n\nimport harmonica as hm\n\n# Load the gravity grid\ndata = hm.datasets.fetch_gravity_earth()\nprint(data)\n\n# Make a plot of data using Cartopy\nplt.figure(figsize=(10, 10))\nax = plt.axes(projection=ccrs.Orthographic(central_longitude=150))\npc = data.gravity.plot.pcolormesh(\n    ax=ax, transform=ccrs.PlateCarree(), add_colorbar=False\n)\nplt.colorbar(\n    pc, label=\"mGal\", orientation=\"horizontal\", aspect=50, pad=0.01, shrink=0.6\n)\nax.set_title(\"Gravity of the Earth (EIGEN-6C4)\")\nax.coastlines()\nplt.show()"
      ]
    }
  ],
  "metadata": {
    "kernelspec": {
      "display_name": "Python 3",
      "language": "python",
      "name": "python3"
    },
    "language_info": {
      "codemirror_mode": {
        "name": "ipython",
        "version": 3
      },
      "file_extension": ".py",
      "mimetype": "text/x-python",
      "name": "python",
      "nbconvert_exporter": "python",
      "pygments_lexer": "ipython3",
      "version": "3.9.12"
    }
  },
  "nbformat": 4,
  "nbformat_minor": 0
}