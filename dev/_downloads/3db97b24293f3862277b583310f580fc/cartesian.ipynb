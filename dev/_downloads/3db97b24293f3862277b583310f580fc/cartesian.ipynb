{
  "cells": [
    {
      "cell_type": "code",
      "execution_count": null,
      "metadata": {
        "collapsed": false
      },
      "outputs": [],
      "source": [
        "%matplotlib inline"
      ]
    },
    {
      "cell_type": "markdown",
      "metadata": {},
      "source": [
        "\n# Gridding and upward continuation\n\nMost potential field surveys gather data along scattered and uneven flight\nlines or ground measurements. For a great number of applications we may need to\ninterpolate these data points onto a regular grid at a constant altitude.\nUpward-continuation is also a routine task for smoothing, noise attenuation,\nsource separation, etc.\n\nBoth tasks can be done simultaneously through an *equivalent sources*\n[Dampney1969]_ (a.k.a *equivalent layer*). We will use\n:class:`harmonica.EquivalentSources` to estimate the coefficients of a set of\npoint sources that fit the observed data. The fitted sources can then be used\nto predict data values wherever we want, like on a grid at a certain altitude.\nBy default, the sources for :class:`~harmonica.EquivalentSources` are placed\none beneath each data point at a relative depth from the elevation of the data\npoint following [Cooper2000]_. This behaviour can be changed throught the\n`depth_type` optional argument.\n\nThe advantage of using equivalent sources is that it takes into account the 3D\nnature of the observations, not just their horizontal positions. It also allows\ndata uncertainty to be taken into account and noise to be suppressed though the\nleast-squares fitting process. The main disadvantage is the increased\ncomputational load (both in terms of time and memory).\n"
      ]
    },
    {
      "cell_type": "code",
      "execution_count": null,
      "metadata": {
        "collapsed": false
      },
      "outputs": [],
      "source": [
        "import matplotlib.pyplot as plt\nimport pyproj\nimport verde as vd\n\nimport harmonica as hm\n\n# Fetch the sample total-field magnetic anomaly data from Great Britain\ndata = hm.datasets.fetch_britain_magnetic()\n\n# Slice a smaller portion of the survey data to speed-up calculations for this\n# example\nregion = [-5.5, -4.7, 57.8, 58.5]\ninside = vd.inside((data.longitude, data.latitude), region)\ndata = data[inside]\nprint(\"Number of data points:\", data.shape[0])\nprint(\"Mean height of observations:\", data.altitude_m.mean())\n\n# Since this is a small area, we'll project our data and use Cartesian\n# coordinates\nprojection = pyproj.Proj(proj=\"merc\", lat_ts=data.latitude.mean())\neasting, northing = projection(data.longitude.values, data.latitude.values)\ncoordinates = (easting, northing, data.altitude_m)\n\n# Create the equivalent sources.\n# We'll use the default point source configuration at a relative depth beneath\n# each observation point.\n# The damping parameter helps smooth the predicted data and ensure stability.\neqs = hm.EquivalentSources(depth=1000, damping=1)\n\n# Fit the sources coefficients to the observed magnetic anomaly.\neqs.fit(coordinates, data.total_field_anomaly_nt)\n\n# Evaluate the data fit by calculating an R\u00b2 score against the observed data.\n# This is a measure of how well the sources fit the data, NOT how good the\n# interpolation will be.\nprint(\"R\u00b2 score:\", eqs.score(coordinates, data.total_field_anomaly_nt))\n\n# Interpolate data on a regular grid with 500 m spacing. The interpolation\n# requires the height of the grid points (upward coordinate). By passing in\n# 1500 m, we're effectively upward-continuing the data (mean flight height is\n# 500 m).\ngrid = eqs.grid(upward=1500, spacing=500, data_names=[\"magnetic_anomaly\"])\n\n# The grid is a xarray.Dataset with values, coordinates, and metadata\nprint(\"\\nGenerated grid:\\n\", grid)\n\n# Plot original magnetic anomaly and the gridded and upward-continued version\nfig, (ax1, ax2) = plt.subplots(nrows=1, ncols=2, figsize=(12, 9), sharey=True)\n\n# Get the maximum absolute value between the original and gridded data so we\n# can use the same color scale for both plots and have 0 centered at the white\n# color.\nmaxabs = vd.maxabs(data.total_field_anomaly_nt, grid.magnetic_anomaly.values)\n\nax1.set_title(\"Observed magnetic anomaly data\")\ntmp = ax1.scatter(\n    easting,\n    northing,\n    c=data.total_field_anomaly_nt,\n    s=20,\n    vmin=-maxabs,\n    vmax=maxabs,\n    cmap=\"seismic\",\n)\nplt.colorbar(tmp, ax=ax1, label=\"nT\", pad=0.05, aspect=40, orientation=\"horizontal\")\nax1.set_xlim(easting.min(), easting.max())\nax1.set_ylim(northing.min(), northing.max())\n\nax2.set_title(\"Gridded and upward-continued\")\ntmp = grid.magnetic_anomaly.plot.pcolormesh(\n    ax=ax2,\n    add_colorbar=False,\n    add_labels=False,\n    vmin=-maxabs,\n    vmax=maxabs,\n    cmap=\"seismic\",\n)\nplt.colorbar(tmp, ax=ax2, label=\"nT\", pad=0.05, aspect=40, orientation=\"horizontal\")\nax2.set_xlim(easting.min(), easting.max())\nax2.set_ylim(northing.min(), northing.max())\n\nplt.show()"
      ]
    }
  ],
  "metadata": {
    "kernelspec": {
      "display_name": "Python 3",
      "language": "python",
      "name": "python3"
    },
    "language_info": {
      "codemirror_mode": {
        "name": "ipython",
        "version": 3
      },
      "file_extension": ".py",
      "mimetype": "text/x-python",
      "name": "python",
      "nbconvert_exporter": "python",
      "pygments_lexer": "ipython3",
      "version": "3.9.12"
    }
  },
  "nbformat": 4,
  "nbformat_minor": 0
}