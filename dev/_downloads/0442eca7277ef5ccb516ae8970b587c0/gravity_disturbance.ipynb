{
  "cells": [
    {
      "cell_type": "code",
      "execution_count": null,
      "metadata": {
        "collapsed": false
      },
      "outputs": [],
      "source": [
        "%matplotlib inline"
      ]
    },
    {
      "cell_type": "markdown",
      "metadata": {},
      "source": [
        "\n# Gravity Disturbances\n\nGravity disturbances are the differences between the measured gravity and\na reference (normal) gravity produced by an ellipsoid. The disturbances are\nwhat allows geoscientists to infer the internal structure of the Earth. We'll\nuse the :meth:`boule.Ellipsoid.normal_gravity` function from :mod:`boule` to\ncalculate the global gravity disturbance of the Earth using our sample gravity\ndata.\n"
      ]
    },
    {
      "cell_type": "code",
      "execution_count": null,
      "metadata": {
        "collapsed": false
      },
      "outputs": [],
      "source": [
        "import boule as bl\nimport cartopy.crs as ccrs\nimport matplotlib.pyplot as plt\n\nimport harmonica as hm\n\n# Load the global gravity grid\ndata = hm.datasets.fetch_gravity_earth()\nprint(data)\n\n# Calculate normal gravity using the WGS84 ellipsoid\nellipsoid = bl.WGS84\ngamma = ellipsoid.normal_gravity(data.latitude, data.height_over_ell)\n# The disturbance is the observed minus normal gravity (calculated at the\n# observation point)\ndisturbance = data.gravity - gamma\n\n# Make a plot of data using Cartopy\nplt.figure(figsize=(10, 10))\nax = plt.axes(projection=ccrs.Orthographic(central_longitude=160))\npc = disturbance.plot.pcolormesh(\n    ax=ax, transform=ccrs.PlateCarree(), add_colorbar=False, cmap=\"seismic\"\n)\nplt.colorbar(\n    pc, label=\"mGal\", orientation=\"horizontal\", aspect=50, pad=0.01, shrink=0.5\n)\nax.set_title(\"Gravity of disturbance of the Earth\")\nax.coastlines()\nplt.show()"
      ]
    }
  ],
  "metadata": {
    "kernelspec": {
      "display_name": "Python 3",
      "language": "python",
      "name": "python3"
    },
    "language_info": {
      "codemirror_mode": {
        "name": "ipython",
        "version": 3
      },
      "file_extension": ".py",
      "mimetype": "text/x-python",
      "name": "python",
      "nbconvert_exporter": "python",
      "pygments_lexer": "ipython3",
      "version": "3.9.12"
    }
  },
  "nbformat": 4,
  "nbformat_minor": 0
}