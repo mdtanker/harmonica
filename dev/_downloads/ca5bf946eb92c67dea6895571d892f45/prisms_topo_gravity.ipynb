{
  "cells": [
    {
      "cell_type": "code",
      "execution_count": null,
      "metadata": {
        "collapsed": false
      },
      "outputs": [],
      "source": [
        "%matplotlib inline"
      ]
    },
    {
      "cell_type": "markdown",
      "metadata": {},
      "source": [
        "\n# Gravitational effect of topography\n\nOne possible application of the :func:`harmonica.prism_layer` function is to\ncreate a model of the terrain and compute its gravity effect. Here we will use\na regular grid of topographic and bathymetric heights for South Africa to\ncreate a prisms layer that model the terrain with a density of 2670 kg/m^3 and\nthe ocean with a density contrast of -1900 kg/m^3 obtained as the difference\nbetween the density of water (1000 kg/m^3) and the normal density of upper\ncrust (2900 kg/m^3). Then we will use :func:`harmonica.prism_gravity` to\ncompute the gravity effect of the model on a regular grid of observation\npoints.\n"
      ]
    },
    {
      "cell_type": "code",
      "execution_count": null,
      "metadata": {
        "collapsed": false
      },
      "outputs": [],
      "source": [
        "import cartopy.crs as ccrs\nimport matplotlib.pyplot as plt\nimport pyproj\nimport verde as vd\n\nimport harmonica as hm\n\n# Read South Africa topography\nsouth_africa_topo = hm.datasets.fetch_south_africa_topography()\n\n# Project the grid\nprojection = pyproj.Proj(proj=\"merc\", lat_ts=south_africa_topo.latitude.values.mean())\nsouth_africa_topo = vd.project_grid(south_africa_topo.topography, projection=projection)\n\n# Create a 2d array with the density of the prisms Points above the geoid will\n# have a density of 2670 kg/m^3 Points below the geoid will have a density\n# contrast equal to the difference between the density of the ocean and the\n# density of the upper crust: # 1000 kg/m^3 - 2900 kg/m^3\ndensity = south_africa_topo.copy()  # copy topography to a new xr.DataArray\ndensity.values[:] = 2670.0  # replace every value for the density of the topography\n# Change density values of ocean points\ndensity = density.where(south_africa_topo >= 0, 1000 - 2900)\n\n# Create layer of prisms\nprisms = hm.prism_layer(\n    (south_africa_topo.easting, south_africa_topo.northing),\n    surface=south_africa_topo,\n    reference=0,\n    properties={\"density\": density},\n)\n\n# Compute gravity field on a regular grid located at 4000m above the ellipsoid\ncoordinates = vd.grid_coordinates(\n    region=(12, 33, -35, -18), spacing=0.2, extra_coords=4000\n)\neasting, northing = projection(*coordinates[:2])\ncoordinates_projected = (easting, northing, coordinates[-1])\nprisms_gravity = prisms.prism_layer.gravity(coordinates_projected, field=\"g_z\")\n\n# Make a plot of the computed gravity\nplt.figure(figsize=(8, 8))\nax = plt.axes(projection=ccrs.Mercator())\nmaxabs = vd.maxabs(prisms_gravity)\ntmp = ax.pcolormesh(\n    *coordinates[:2],\n    prisms_gravity,\n    vmin=-maxabs,\n    vmax=maxabs,\n    cmap=\"RdBu_r\",\n    transform=ccrs.PlateCarree()\n)\nax.set_extent(vd.get_region(coordinates), crs=ccrs.PlateCarree())\nplt.title(\"Gravitational acceleration of the topography\")\nplt.colorbar(\n    tmp, label=\"mGal\", orientation=\"horizontal\", shrink=0.93, pad=0.01, aspect=50\n)\nplt.show()"
      ]
    }
  ],
  "metadata": {
    "kernelspec": {
      "display_name": "Python 3",
      "language": "python",
      "name": "python3"
    },
    "language_info": {
      "codemirror_mode": {
        "name": "ipython",
        "version": 3
      },
      "file_extension": ".py",
      "mimetype": "text/x-python",
      "name": "python",
      "nbconvert_exporter": "python",
      "pygments_lexer": "ipython3",
      "version": "3.9.12"
    }
  },
  "nbformat": 4,
  "nbformat_minor": 0
}