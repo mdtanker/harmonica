{
  "cells": [
    {
      "cell_type": "code",
      "execution_count": null,
      "metadata": {
        "collapsed": false
      },
      "outputs": [],
      "source": [
        "%matplotlib inline"
      ]
    },
    {
      "cell_type": "markdown",
      "metadata": {},
      "source": [
        "\n# Total Field Magnetic Anomaly from Great Britain\n\nThese data are a complete airborne survey of the entire Great Britain\nconducted between 1955 and 1965. The data are made available by the\nBritish Geological Survey (BGS) through their `geophysical data portal\n<https://www.bgs.ac.uk/products/geophysics/aeromagneticRegional.html>`__.\n\nLicense: `Open Government License\n<http://www.nationalarchives.gov.uk/doc/open-government-licence/version/3/>`__\n\nThe columns of the data table are longitude, latitude, total-field\nmagnetic anomaly (nanoTesla), observation height relative to the WGS84 datum\n(in meters), survey area, and line number and line segment for each data point.\n\nLatitude, longitude, and elevation data converted from original OSGB36\n(epsg:27700) coordinate system to WGS84 (epsg:4326) using to_crs function in\nGeoPandas.\n\nSee the original data for more processing information.\n\nIf the file isn't already in your data directory, it will be downloaded\nautomatically.\n"
      ]
    },
    {
      "cell_type": "code",
      "execution_count": null,
      "metadata": {
        "collapsed": false
      },
      "outputs": [],
      "source": [
        "import cartopy.crs as ccrs\nimport matplotlib.pyplot as plt\nimport numpy as np\nimport verde as vd\n\nimport harmonica as hm\n\n# Fetch the data in a pandas.DataFrame\ndata = hm.datasets.fetch_britain_magnetic()\nprint(data)\n\n# Plot the observations in a Mercator map using Cartopy\nfig = plt.figure(figsize=(7.5, 10))\nax = plt.axes(projection=ccrs.Mercator())\nax.set_title(\"Magnetic data from Great Britain\", pad=25)\nmaxabs = np.percentile(data.total_field_anomaly_nt, 99)\ntmp = ax.scatter(\n    data.longitude,\n    data.latitude,\n    c=data.total_field_anomaly_nt,\n    s=0.001,\n    cmap=\"seismic\",\n    vmin=-maxabs,\n    vmax=maxabs,\n    transform=ccrs.PlateCarree(),\n)\nplt.colorbar(\n    tmp,\n    ax=ax,\n    label=\"total field magnetic anomaly [nT]\",\n    orientation=\"vertical\",\n    aspect=50,\n    shrink=0.7,\n    pad=0.1,\n)\nax.set_extent(vd.get_region((data.longitude, data.latitude)))\nax.gridlines(draw_labels=True)\nax.coastlines(resolution=\"50m\")\nplt.show()"
      ]
    }
  ],
  "metadata": {
    "kernelspec": {
      "display_name": "Python 3",
      "language": "python",
      "name": "python3"
    },
    "language_info": {
      "codemirror_mode": {
        "name": "ipython",
        "version": 3
      },
      "file_extension": ".py",
      "mimetype": "text/x-python",
      "name": "python",
      "nbconvert_exporter": "python",
      "pygments_lexer": "ipython3",
      "version": "3.9.12"
    }
  },
  "nbformat": 4,
  "nbformat_minor": 0
}