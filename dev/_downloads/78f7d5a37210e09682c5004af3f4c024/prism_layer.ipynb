{
  "cells": [
    {
      "cell_type": "code",
      "execution_count": null,
      "metadata": {
        "collapsed": false
      },
      "outputs": [],
      "source": [
        "%matplotlib inline"
      ]
    },
    {
      "cell_type": "markdown",
      "metadata": {},
      "source": [
        "\n# Layer of prisms\n\nOne way to model three dimensional structures is to create a set of prisms that\napproximates their geometry and its physical properties (density,\nsusceptibility, etc.). The :func:`harmonica.prism_layer` offers a simple way\nto create a layer of prisms: a regular grid of prisms of equal size on the\nhorizontal directions with variable top and bottom boundaries. It returns\na :class:`xarray.Dataset` with the coordinates of the centers of the prisms and\ntheir corresponding physical properties.\nThe :class:`harmonica.DatasetAccessorPrismsLayer` Dataset accessor can be used\nto obtain some properties of the layer like its shape and size or the\nboundaries of any prism in the layer. The methods of this Dataset accessor can\nbe used together with the :func:`harmonica.prism_gravity` to compute the\ngravitational effect of the layer.\n"
      ]
    },
    {
      "cell_type": "code",
      "execution_count": null,
      "metadata": {
        "collapsed": false
      },
      "outputs": [],
      "source": [
        "import matplotlib.pyplot as plt\nimport numpy as np\nimport verde as vd\n\nimport harmonica as hm\n\n# Create a layer of prisms\nregion = (0, 100e3, -40e3, 40e3)\nspacing = 2e3\n(easting, northing) = vd.grid_coordinates(region=region, spacing=spacing)\nsurface = 100 * np.exp(-((easting - 50e3) ** 2 + northing**2) / 1e9)\ndensity = 2670.0 * np.ones_like(surface)\nprisms = hm.prism_layer(\n    coordinates=(easting[0, :], northing[:, 0]),\n    surface=surface,\n    reference=0,\n    properties={\"density\": density},\n)\n\n# Compute gravity field of prisms on a regular grid of observation points\ncoordinates = vd.grid_coordinates(region, spacing=spacing, extra_coords=1e3)\ngravity = prisms.prism_layer.gravity(coordinates, field=\"g_z\")\n\n# Plot gravity field\nplt.pcolormesh(*coordinates[:2], gravity)\nplt.colorbar(label=\"mGal\", shrink=0.8)\nplt.gca().set_aspect(\"equal\")\nplt.ticklabel_format(axis=\"both\", style=\"sci\", scilimits=(0, 0))\nplt.title(\"Gravity acceleration of a layer of prisms\")\nplt.xlabel(\"easting [m]\")\nplt.ylabel(\"northing [m]\")\nplt.tight_layout()\nplt.show()"
      ]
    }
  ],
  "metadata": {
    "kernelspec": {
      "display_name": "Python 3",
      "language": "python",
      "name": "python3"
    },
    "language_info": {
      "codemirror_mode": {
        "name": "ipython",
        "version": 3
      },
      "file_extension": ".py",
      "mimetype": "text/x-python",
      "name": "python",
      "nbconvert_exporter": "python",
      "pygments_lexer": "ipython3",
      "version": "3.9.12"
    }
  },
  "nbformat": 4,
  "nbformat_minor": 0
}