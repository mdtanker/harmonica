{
  "cells": [
    {
      "cell_type": "code",
      "execution_count": null,
      "metadata": {
        "collapsed": false
      },
      "outputs": [],
      "source": [
        "%matplotlib inline"
      ]
    },
    {
      "cell_type": "markdown",
      "metadata": {},
      "source": [
        "\n# Earth Topography\n\nThe topography and bathymetry of the Earth according to the ETOPO1 model\n[AmanteEakins2009]_. The original model has 1 arc-minute grid spacing but here\nwe downsampled to 0.5 degree grid spacing to save space and download times.\nHeights are referenced to sea level.\n"
      ]
    },
    {
      "cell_type": "code",
      "execution_count": null,
      "metadata": {
        "collapsed": false
      },
      "outputs": [],
      "source": [
        "import cartopy.crs as ccrs\nimport matplotlib.pyplot as plt\n\nimport harmonica as hm\n\n# Load the topography grid\ndata = hm.datasets.fetch_topography_earth()\nprint(data)\n\n# Make a plot of data using Cartopy\nplt.figure(figsize=(10, 10))\nax = plt.axes(projection=ccrs.Orthographic(central_longitude=-30))\npc = data.topography.plot.pcolormesh(\n    ax=ax, transform=ccrs.PlateCarree(), add_colorbar=False, cmap=\"terrain\"\n)\nplt.colorbar(\n    pc, label=\"meters\", orientation=\"horizontal\", aspect=50, pad=0.01, shrink=0.6\n)\nax.set_title(\"Topography of the Earth (ETOPO1)\")\nax.coastlines()\nplt.show()"
      ]
    }
  ],
  "metadata": {
    "kernelspec": {
      "display_name": "Python 3",
      "language": "python",
      "name": "python3"
    },
    "language_info": {
      "codemirror_mode": {
        "name": "ipython",
        "version": 3
      },
      "file_extension": ".py",
      "mimetype": "text/x-python",
      "name": "python",
      "nbconvert_exporter": "python",
      "pygments_lexer": "ipython3",
      "version": "3.9.12"
    }
  },
  "nbformat": 4,
  "nbformat_minor": 0
}