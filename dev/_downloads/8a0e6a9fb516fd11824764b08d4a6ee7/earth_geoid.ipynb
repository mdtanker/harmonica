{
  "cells": [
    {
      "cell_type": "code",
      "execution_count": null,
      "metadata": {
        "collapsed": false
      },
      "outputs": [],
      "source": [
        "%matplotlib inline"
      ]
    },
    {
      "cell_type": "markdown",
      "metadata": {},
      "source": [
        "\n# Earth Geoid\n\nThe geoid is the equipotential surface of the Earth's gravity potential that\ncoincides with mean sea level. It's often represented by \"geoid heights\", which\nindicate the height of the geoid relative to the reference ellipsoid (WGS84 in\nthis case). Negative values indicate that the geoid is below the ellipsoid\nsurface and positive values that it is above. The data are on a regular grid\nwith 0.5 degree spacing and was generated from the spherical harmonic model\nEIGEN-6C4 [Forste_etal2014]_.\n"
      ]
    },
    {
      "cell_type": "code",
      "execution_count": null,
      "metadata": {
        "collapsed": false
      },
      "outputs": [],
      "source": [
        "import cartopy.crs as ccrs\nimport matplotlib.pyplot as plt\n\nimport harmonica as hm\n\n# Load the geoid grid\ndata = hm.datasets.fetch_geoid_earth()\nprint(data)\n\n# Make a plot of data using Cartopy\nplt.figure(figsize=(10, 10))\nax = plt.axes(projection=ccrs.Orthographic(central_longitude=100))\npc = data.geoid.plot.pcolormesh(ax=ax, transform=ccrs.PlateCarree(), add_colorbar=False)\nplt.colorbar(\n    pc, label=\"meters\", orientation=\"horizontal\", aspect=50, pad=0.01, shrink=0.6\n)\nax.set_title(\"Geoid heights (EIGEN-6C4)\")\nax.coastlines()\nplt.show()"
      ]
    }
  ],
  "metadata": {
    "kernelspec": {
      "display_name": "Python 3",
      "language": "python",
      "name": "python3"
    },
    "language_info": {
      "codemirror_mode": {
        "name": "ipython",
        "version": 3
      },
      "file_extension": ".py",
      "mimetype": "text/x-python",
      "name": "python",
      "nbconvert_exporter": "python",
      "pygments_lexer": "ipython3",
      "version": "3.9.12"
    }
  },
  "nbformat": 4,
  "nbformat_minor": 0
}