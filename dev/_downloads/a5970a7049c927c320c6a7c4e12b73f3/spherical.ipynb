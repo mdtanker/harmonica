{
  "cells": [
    {
      "cell_type": "code",
      "execution_count": null,
      "metadata": {
        "collapsed": false
      },
      "outputs": [],
      "source": [
        "%matplotlib inline"
      ]
    },
    {
      "cell_type": "markdown",
      "metadata": {},
      "source": [
        "\n# Gridding in spherical coordinates\n\nThe curvature of the Earth must be taken into account when gridding and\nprocessing magnetic or gravity data on large regions. In these cases,\nprojecting the data may introduce errors due to the distortions caused by the\nprojection.\n\n:class:`harmonica.EquivalentSourcesSph` implements the equivalent sources\ntechnique in spherical coordinates. It has the same advantages as the Cartesian\nequivalent sources (:class:`harmonica.EquivalentSources`) while taking into\naccount the curvature of the Earth.\n"
      ]
    },
    {
      "cell_type": "code",
      "execution_count": null,
      "metadata": {
        "collapsed": false
      },
      "outputs": [],
      "source": [
        "import boule as bl\nimport matplotlib.pyplot as plt\nimport numpy as np\nimport verde as vd\n\nimport harmonica as hm\n\n# Fetch the sample gravity data from South Africa\ndata = hm.datasets.fetch_south_africa_gravity()\n\n# Downsample the data using a blocked mean to speed-up the computations\n# for this example. This is preferred over simply discarding points to avoid\n# aliasing effects.\nblocked_mean = vd.BlockReduce(np.mean, spacing=0.2, drop_coords=False)\n(longitude, latitude, elevation), gravity_data = blocked_mean.filter(\n    (data.longitude, data.latitude, data.elevation),\n    data.gravity,\n)\n\n# Compute gravity disturbance by removing the gravity of normal Earth\nellipsoid = bl.WGS84\ngamma = ellipsoid.normal_gravity(latitude, height=elevation)\ngravity_disturbance = gravity_data - gamma\n\n# Convert data coordinates from geodetic (longitude, latitude, height) to\n# spherical (longitude, spherical_latitude, radius).\ncoordinates = ellipsoid.geodetic_to_spherical(longitude, latitude, elevation)\n\n# Create the equivalent sources\neqs = hm.EquivalentSourcesSph(damping=1e-3, relative_depth=10000)\n\n# Fit the sources coefficients to the observed magnetic anomaly\neqs.fit(coordinates, gravity_disturbance)\n\n# Evaluate the data fit by calculating an R\u00b2 score against the observed data.\n# This is a measure of how well the sources fit the data, NOT how good the\n# interpolation will be.\nprint(\"R\u00b2 score:\", eqs.score(coordinates, gravity_disturbance))\n\n# Interpolate data on a regular grid with 0.2 degrees spacing. The\n# interpolation requires the radius of the grid points (upward coordinate). By\n# passing in the maximum radius of the data, we're effectively\n# upward-continuing the data. The grid will be defined in spherical\n# coordinates.\ngrid = eqs.grid(\n    upward=coordinates[-1].max(),\n    spacing=0.2,\n    data_names=[\"gravity_disturbance\"],\n)\n\n# The grid is a xarray.Dataset with values, coordinates, and metadata\nprint(\"\\nGenerated grid:\\n\", grid)\n\n# Mask grid points too far from data points\ngrid = vd.distance_mask(data_coordinates=coordinates, maxdist=0.5, grid=grid)\n\n# Get the maximum absolute value between the original and gridded data so we\n# can use the same color scale for both plots and have 0 centered at the white\n# color.\nmaxabs = vd.maxabs(gravity_disturbance, grid.gravity_disturbance.values)\n\n# Get the region boundaries\nregion = vd.get_region(coordinates)\n\n# Plot observed and gridded gravity disturbance\nfig, (ax1, ax2) = plt.subplots(\n    nrows=1,\n    ncols=2,\n    figsize=(10, 5),\n    sharey=True,\n)\n\ntmp = ax1.scatter(\n    longitude,\n    latitude,\n    c=gravity_disturbance,\n    s=3,\n    vmin=-maxabs,\n    vmax=maxabs,\n    cmap=\"seismic\",\n)\nplt.colorbar(tmp, ax=ax1, label=\"mGal\", pad=0.07, aspect=40, orientation=\"horizontal\")\nax1.set_aspect(\"equal\")\nax1.set_xlim(*region[:2])\nax1.set_ylim(*region[2:])\n\ntmp = grid.gravity_disturbance.plot.pcolormesh(\n    ax=ax2,\n    vmin=-maxabs,\n    vmax=maxabs,\n    cmap=\"seismic\",\n    add_colorbar=False,\n    add_labels=False,\n)\nplt.colorbar(tmp, ax=ax2, label=\"mGal\", pad=0.07, aspect=40, orientation=\"horizontal\")\nax2.set_aspect(\"equal\")\nax2.set_xlim(*region[:2])\nax2.set_ylim(*region[2:])\n\nplt.subplots_adjust(wspace=0.05, top=1, bottom=0, left=0.05, right=0.95)\nplt.show()"
      ]
    }
  ],
  "metadata": {
    "kernelspec": {
      "display_name": "Python 3",
      "language": "python",
      "name": "python3"
    },
    "language_info": {
      "codemirror_mode": {
        "name": "ipython",
        "version": 3
      },
      "file_extension": ".py",
      "mimetype": "text/x-python",
      "name": "python",
      "nbconvert_exporter": "python",
      "pygments_lexer": "ipython3",
      "version": "3.9.12"
    }
  },
  "nbformat": 4,
  "nbformat_minor": 0
}